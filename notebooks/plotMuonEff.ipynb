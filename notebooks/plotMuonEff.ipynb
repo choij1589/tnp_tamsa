{
 "cells": [
  {
   "cell_type": "code",
   "execution_count": 42,
   "metadata": {},
   "outputs": [],
   "source": [
    "import os, sys; sys.path.append(f\"/home/choij/workspace/tnp_tamsa/tdr-style\")\n",
    "import ROOT\n",
    "import tdrstyle; tdrstyle.setTDRStyle(square=False)\n",
    "ROOT.gStyle.SetErrorX(0.5)"
   ]
  },
  {
   "cell_type": "code",
   "execution_count": 78,
   "metadata": {},
   "outputs": [],
   "source": [
    "ERA = \"2016b\"\n",
    "#key = \"NUM_TopHNT_DEN_TrackerMuons\"\n",
    "key = \"NUM_Mu17Leg1_DEN_TopHNT\"\n",
    "#key = \"NUM_Mu8Leg2_DEN_TopHNT\""
   ]
  },
  {
   "cell_type": "code",
   "execution_count": 79,
   "metadata": {},
   "outputs": [],
   "source": [
    "# get central histogram\n",
    "f = ROOT.TFile.Open(f\"../results/TopHNT_Muon_v1/{key}_{ERA}/efficiency.root\")\n",
    "h_data = f.Get(\"data\"); h_data.SetDirectory(0)\n",
    "h_sim  = f.Get(\"sim\"); h_sim.SetDirectory(0)\n",
    "h_sf = f.Get(\"sf\"); h_sf.SetDirectory(0)\n",
    "f.Close()"
   ]
  },
  {
   "cell_type": "code",
   "execution_count": 80,
   "metadata": {},
   "outputs": [],
   "source": [
    "# make pt average histograms (projection on Y)\n",
    "# make histogram template\n",
    "# data\n",
    "h_data_projy1 = h_data.ProjectionY(\"_py1\", 1, 1)\n",
    "h_data_projy2 = h_data.ProjectionY(\"_py2\", 2, 2)\n",
    "h_data_projy3 = h_data.ProjectionY(\"_py3\", 3, 3)\n",
    "h_data_projy4 = h_data.ProjectionY(\"_py4\", 4, 4)\n",
    "\n",
    "h_data_avg = h_data_projy1.Clone(\"_py_avg\")\n",
    "for bin in range(1, h_data_avg.GetNbinsX()+1):\n",
    "    avg = (h_data_projy1.GetBinContent(bin) + h_data_projy2.GetBinContent(bin) + h_data_projy3.GetBinContent(bin) + h_data_projy4.GetBinContent(bin)) / 4\n",
    "    err = (h_data_projy1.GetBinError(bin) + h_data_projy2.GetBinError(bin) + h_data_projy3.GetBinError(bin) + h_data_projy4.GetBinError(bin)) / 4\n",
    "    h_data_avg.SetBinContent(bin, avg)\n",
    "    h_data_avg.SetBinError(bin, err)\n",
    "\n",
    "# mc    \n",
    "h_sim_projy1 = h_sim.ProjectionY(\"_py1\", 1, 1)\n",
    "h_sim_projy2 = h_sim.ProjectionY(\"_py2\", 2, 2)\n",
    "h_sim_projy3 = h_sim.ProjectionY(\"_py3\", 3, 3)\n",
    "h_sim_projy4 = h_sim.ProjectionY(\"_py4\", 4, 4)\n",
    "\n",
    "h_sim_avg = h_sim_projy1.Clone(\"_py_avg\")\n",
    "for bin in range(1, h_sim_avg.GetNbinsX()+1):\n",
    "    avg = (h_sim_projy1.GetBinContent(bin) + h_sim_projy2.GetBinContent(bin) + h_sim_projy3.GetBinContent(bin) + h_sim_projy4.GetBinContent(bin)) / 4\n",
    "    err = (h_sim_projy1.GetBinError(bin) + h_sim_projy2.GetBinError(bin) + h_sim_projy3.GetBinError(bin) + h_sim_projy4.GetBinError(bin)) / 4\n",
    "    h_sim_avg.SetBinContent(bin, avg)\n",
    "    h_sim_avg.SetBinError(bin, err)\n",
    "\n",
    "# sf\n",
    "h_sf_projy1 = h_sf.ProjectionY(\"_py1\", 1, 1)\n",
    "h_sf_projy2 = h_sf.ProjectionY(\"_py2\", 2, 2)\n",
    "h_sf_projy3 = h_sf.ProjectionY(\"_py3\", 3, 3)\n",
    "h_sf_projy4 = h_sf.ProjectionY(\"_py4\", 4, 4)\n",
    "\n",
    "h_sf_avg = h_sf_projy1.Clone(\"_sf_avg\")\n",
    "for bin in range(1, h_sf_avg.GetNbinsX()):\n",
    "    avg = (h_sf_projy1.GetBinContent(bin) + h_sf_projy2.GetBinContent(bin) + h_sf_projy3.GetBinContent(bin) + h_sf_projy4.GetBinContent(bin)) / 4\n",
    "    err = (h_sf_projy1.GetBinError(bin) + h_sf_projy2.GetBinError(bin) + h_sf_projy3.GetBinError(bin) + h_sf_projy4.GetBinError(bin)) / 4 \n",
    "    h_sf_avg.SetBinContent(bin, avg)\n",
    "    h_sf_avg.SetBinError(bin, err)"
   ]
  },
  {
   "cell_type": "code",
   "execution_count": 81,
   "metadata": {},
   "outputs": [],
   "source": [
    "# decoration\n",
    "h_data_avg.SetStats(0)\n",
    "h_data_avg.SetLineColor(ROOT.kBlack)\n",
    "h_data_avg.SetLineWidth(2)\n",
    "h_data_avg.SetMarkerColor(ROOT.kBlack)\n",
    "h_data_avg.SetMarkerStyle(8)\n",
    "h_data_avg.SetMarkerSize(1)\n",
    "h_data_avg.GetXaxis().SetLabelSize(0)\n",
    "h_data_avg.GetYaxis().SetTitle(\"Efficiency\")\n",
    "h_data_avg.GetYaxis().SetTitleSize(0.04)\n",
    "h_data_avg.GetYaxis().SetTitleOffset(1.25)\n",
    "h_data_avg.GetYaxis().SetLabelSize(0.03)\n",
    "h_data_avg.GetYaxis().SetRangeUser(0.6, 1.)\n",
    "\n",
    "h_sim_avg.SetStats(0)\n",
    "h_sim_avg.SetLineColor(ROOT.kBlue)\n",
    "h_sim_avg.SetLineWidth(2)\n",
    "h_sim_avg.SetMarkerColor(ROOT.kBlue)\n",
    "h_sim_avg.SetMarkerStyle(8)\n",
    "h_sim_avg.SetMarkerSize(1)\n",
    "\n",
    "h_sf_avg.SetStats(0)\n",
    "h_sf_avg.SetLineColor(ROOT.kBlack)\n",
    "h_sf_avg.SetLineWidth(2)\n",
    "h_sf_avg.SetMarkerColor(ROOT.kBlack)\n",
    "h_sf_avg.SetMarkerStyle(8)\n",
    "h_sf_avg.SetMarkerSize(1)\n",
    "h_sf_avg.GetXaxis().SetTitle(\"p_{T} [GeV]\")\n",
    "h_sf_avg.GetXaxis().SetTitleSize(0.1)\n",
    "h_sf_avg.GetXaxis().SetTitleOffset(0.9)\n",
    "h_sf_avg.GetXaxis().SetLabelSize(0.08)\n",
    "h_sf_avg.GetYaxis().SetTitle(\"S.F.\")\n",
    "h_sf_avg.GetYaxis().CenterTitle()\n",
    "h_sf_avg.GetYaxis().SetTitleSize(0.1)\n",
    "h_sf_avg.GetYaxis().SetTitleOffset(0.6)\n",
    "h_sf_avg.GetYaxis().SetLabelSize(0.08)\n",
    "h_sf_avg.GetYaxis().SetRangeUser(0.8, 1.12)\n",
    "\n",
    "h_data_avg.GetXaxis().SetRangeUser(10, 120)\n",
    "h_sf_avg.GetXaxis().SetRangeUser(10, 120)"
   ]
  },
  {
   "cell_type": "code",
   "execution_count": 82,
   "metadata": {},
   "outputs": [
    {
     "name": "stderr",
     "output_type": "stream",
     "text": [
      "Warning in <TCanvas::Constructor>: Deleting canvas with same name: canvas\n",
      "Info in <TCanvas::Print>: png file plots/TopHNT_Muon_v1/eff_NUM_Mu17Leg1_DEN_TopHNT_2016b.png has been created\n"
     ]
    },
    {
     "data": {
      "image/png": "[encoded data removed]",
      "text/plain": [
       "<IPython.core.display.Image object>"
      ]
     },
     "metadata": {},
     "output_type": "display_data"
    }
   ],
   "source": [
    "canvas = ROOT.TCanvas(\"canvas\", \"\", 600, 600)\n",
    "pad_up = ROOT.TPad(\"up\", \"\", 0., 0.25, 1, 1)\n",
    "pad_down = ROOT.TPad(\"down\", \"\", 0, 0, 1, 0.25)\n",
    "legend = ROOT.TLegend(0.5, 0.35, 0.9, 0.5)\n",
    "legend.SetFillStyle(0)\n",
    "legend.SetBorderSize(0)\n",
    "text = ROOT.TLatex()\n",
    "def setCOMText():\n",
    "    text.SetTextSize(0.035)\n",
    "    text.SetTextFont(42)\n",
    "    \n",
    "def setCMSText():\n",
    "    text.SetTextSize(0.04)\n",
    "    text.SetTextFont(61)\n",
    "    \n",
    "def setWIPText():\n",
    "    text.SetTextSize(0.036)\n",
    "    text.SetTextFont(52)\n",
    "\n",
    "pad_up.SetGrid(True)\n",
    "pad_up.SetBottomMargin(0.02)\n",
    "pad_up.SetLeftMargin(0.115)\n",
    "pad_up.SetRightMargin(0.08)\n",
    "\n",
    "pad_down.SetGrid(True)\n",
    "pad_down.SetTopMargin(0.03)\n",
    "pad_down.SetBottomMargin(0.25)\n",
    "pad_down.SetLeftMargin(0.115)\n",
    "pad_down.SetRightMargin(0.08)\n",
    "        \n",
    "legend.AddEntry(h_data_avg, \"data (|#eta| avg.)\", \"lep\")\n",
    "legend.AddEntry(h_sim_avg, \"MC (|#eta| avg.)\", \"lep\")\n",
    "\n",
    "pad_up.cd()\n",
    "h_data_avg.Draw()\n",
    "h_sim_avg.Draw(\"same\")\n",
    "legend.Draw()\n",
    "pad_up.RedrawAxis()\n",
    "setCOMText(); text.DrawLatexNDC(0.74, 0.96, f\"{ERA}, 13 TeV\")\n",
    "setCMSText(); text.DrawLatexNDC(0.12, 0.96, \"CMS\")\n",
    "setWIPText(); text.DrawLatexNDC(0.22, 0.96, \"Preliminary\")\n",
    "\n",
    "pad_down.cd()\n",
    "h_sf_avg.Draw()\n",
    "pad_down.RedrawAxis()\n",
    "\n",
    "canvas.cd()\n",
    "pad_up.Draw()\n",
    "pad_down.Draw(\"same\")\n",
    "canvas.Draw()\n",
    "canvas.SaveAs(f\"plots/TopHNT_Muon_v1/eff_{key}_{ERA}.png\")"
   ]
  },
  {
   "cell_type": "code",
   "execution_count": null,
   "metadata": {},
   "outputs": [],
   "source": []
  },
  {
   "cell_type": "code",
   "execution_count": null,
   "metadata": {},
   "outputs": [],
   "source": []
  }
 ],
 "metadata": {
  "kernelspec": {
   "display_name": "pyg",
   "language": "python",
   "name": "python3"
  },
  "language_info": {
   "codemirror_mode": {
    "name": "ipython",
    "version": 3
   },
   "file_extension": ".py",
   "mimetype": "text/x-python",
   "name": "python",
   "nbconvert_exporter": "python",
   "pygments_lexer": "ipython3",
   "version": "3.11.10"
  }
 },
 "nbformat": 4,
 "nbformat_minor": 2
}
