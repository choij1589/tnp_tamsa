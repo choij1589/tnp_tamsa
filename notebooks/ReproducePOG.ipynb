{
 "cells": [
  {
   "cell_type": "code",
   "execution_count": null,
   "metadata": {},
   "outputs": [
    {
     "ename": "",
     "evalue": "",
     "output_type": "error",
     "traceback": [
      "\u001b[1;31mRunning cells with '/usr/bin/python3' requires the ipykernel package.\n",
      "\u001b[1;31mRun the following command to install 'ipykernel' into the Python environment. \n",
      "\u001b[1;31mCommand: '/usr/bin/python3 -m pip install ipykernel -U --user --force-reinstall'"
     ]
    }
   ],
   "source": [
    "import os\n",
    "import ROOT\n",
    "from itertools import product"
   ]
  },
  {
   "cell_type": "code",
   "execution_count": 2,
   "metadata": {},
   "outputs": [],
   "source": [
    "MEASURE = \"ele\"        # ele / mu\n",
    "ERA     = \"2016a\"\n",
    "POGBASE = \"/Users/choij/workspace/Materials/TagAndProbe\"\n",
    "TNPBASE = f\"{os.getcwd()}/../results\""
   ]
  },
  {
   "cell_type": "code",
   "execution_count": 3,
   "metadata": {},
   "outputs": [],
   "source": [
    "# bins\n",
    "if MEASURE == \"mu\":\n",
    "    etabin = [0., 0.9, 1.2, 2.1, 2.4]\n",
    "    ptbin = [15, 20, 25, 30, 40, 50, 60, 120]\n",
    "elif MEASURE == \"ele\" and ERA == \"2016b\":\n",
    "    etabin = [-2.5, -2., -1.566, -1.4442, -0.8, 0., 0.8, 1.4442, 1.566, 2., 2.5]\n",
    "    ptbin = [10., 20., 35., 50., 100., 500.]\n",
    "else:\n",
    "    etabin = [-2.5, -2., -1.566, -1.4442, -0.8, 0., 0.8, 1.4442, 1.566, 2., 2.5] \n",
    "    ptbin = [10., 20., 35., 50., 100., 200., 500.]"
   ]
  },
  {
   "cell_type": "code",
   "execution_count": 4,
   "metadata": {},
   "outputs": [],
   "source": [
    "# make file map for each era\n",
    "POGMAP_ele = {\n",
    "    \"2016a\": f\"{POGBASE}/Electron/egammaEffi.txt_Ele_wp90noiso_preVFP_EGM2D.root\",\n",
    "    \"2016b\": f\"{POGBASE}/Electron/egammaEffi.txt_Ele_wp90noiso_postVFP_EGM2D.root\",\n",
    "    \"2017\": f\"{POGBASE}/Electron/egammaEffi.txt_EGM2D_MVA90noIso_UL17.root\",\n",
    "    \"2018\": f\"{POGBASE}/Electron/2018_ElectronMVA90noiso.root\"\n",
    "}\n",
    "POGMAP_mu = {\n",
    "    \"2016a\": f\"{POGBASE}/Muon/Efficiencies_muon_generalTracks_Z_Run2016_UL_HIPM_ID.root\",\n",
    "    \"2016b\": f\"{POGBASE}/Muon/Efficiencies_muon_generalTracks_Z_Run2016_UL_ID.root\",\n",
    "    \"2017\": f\"{POGBASE}/Muon/Efficiencies_muon_generalTracks_Z_Run2017_UL_ID.root\",\n",
    "    \"2018\": f\"{POGBASE}/Muon/Efficiencies_muon_generalTracks_Z_Run2018_UL_ID.root\"\n",
    "}\n",
    "\n",
    "if MEASURE == \"ele\":\n",
    "    POGMAP = POGMAP_ele\n",
    "elif MEASURE == \"mu\":\n",
    "    POGMAP = POGMAP_mu\n",
    "else:\n",
    "    print(f\"wrong measure {MEASURE}\")\n",
    "    raise(KeyError)\n",
    "\n",
    "def tnppath(measure, era):\n",
    "    if measure == \"ele\":\n",
    "        filepath = f\"{TNPBASE}/POGElectron_V3/POGMVANoIsoWP90_{era}/efficiency.root\"\n",
    "    elif measure == \"mu\":\n",
    "        filepath = f\"{TNPBASE}/POGMuon_V0/NUM_POGMedium_DEN_TrackerMuons_{era}/efficiency.root\"\n",
    "    else:\n",
    "        print(\"measure should be ele or mu\")\n",
    "        raise(KeyError)\n",
    "    assert os.path.exists(filepath)\n",
    "    \n",
    "    return filepath"
   ]
  },
  {
   "cell_type": "code",
   "execution_count": 5,
   "metadata": {},
   "outputs": [],
   "source": [
    "# get root file\n",
    "f_pog = ROOT.TFile.Open(POGMAP[ERA])\n",
    "f_tnp = ROOT.TFile.Open(tnppath(MEASURE, ERA))"
   ]
  },
  {
   "cell_type": "code",
   "execution_count": 6,
   "metadata": {},
   "outputs": [],
   "source": [
    "# get histogram for estimation\n",
    "def get_hist(measure, era, is_data, is_pog):\n",
    "    meas_map = {\n",
    "        \"ele_data\": \"EGamma_EffData2D\",\n",
    "        \"ele_mc\": \"EGamma_EffMC2D\"\n",
    "    }\n",
    "    \n",
    "    if is_pog:\n",
    "        f = ROOT.TFile.Open(POGMAP[era])\n",
    "        if measure == \"ele\" and is_data:\n",
    "            h = f.Get(\"EGamma_EffData2D\")\n",
    "        elif measure == \"ele\" and not is_data:\n",
    "            h = f.Get(\"EGamma_EffMC2D\")\n",
    "        elif measure == \"mu\" and is_data:\n",
    "            pass\n",
    "        elif measure == \"mu\" and not is_data:\n",
    "            pass\n",
    "        else:\n",
    "            raise(KeyError)\n",
    "    else:\n",
    "        f = ROOT.TFile.Open(tnppath(measure, era))\n",
    "        if is_data:\n",
    "            h = f.Get(\"data\")\n",
    "        else:\n",
    "            h = f.Get(\"sim\")\n",
    "    h.SetDirectory(0)\n",
    "    f.Close()\n",
    "    return h"
   ]
  },
  {
   "cell_type": "code",
   "execution_count": 7,
   "metadata": {},
   "outputs": [],
   "source": [
    "h_pog = get_hist(MEASURE, ERA, is_data=True, is_pog=True)\n",
    "h_tnp = get_hist(MEASURE, ERA, is_data=True, is_pog=False)"
   ]
  },
  {
   "cell_type": "code",
   "execution_count": 8,
   "metadata": {},
   "outputs": [
    {
     "name": "stdout",
     "output_type": "stream",
     "text": [
      "[bin 0 ]\t0.7480\t0.7492\t0.16%\n",
      "[bin 1 ]\t0.7680\t0.7664\t-0.21%\n",
      "[bin 2 ]\t1.0000\t0.7679\t-23.21%\n",
      "[bin 3 ]\t0.7930\t0.7931\t0.01%\n",
      "[bin 4 ]\t0.7670\t0.7641\t-0.38%\n",
      "[bin 5 ]\t0.7860\t0.8029\t2.15%\n",
      "[bin 6 ]\t0.7930\t0.7916\t-0.17%\n",
      "[bin 7 ]\t1.0000\t0.7825\t-21.75%\n",
      "[bin 8 ]\t0.7650\t0.7644\t-0.08%\n",
      "[bin 9 ]\t0.7540\t0.7545\t0.07%\n",
      "[bin 10 ]\t0.7860\t0.7856\t-0.05%\n",
      "[bin 11 ]\t0.7880\t0.7872\t-0.10%\n",
      "[bin 12 ]\t1.0000\t0.7264\t-27.36%\n",
      "[bin 13 ]\t0.7910\t0.7917\t0.08%\n",
      "[bin 14 ]\t0.8000\t0.8025\t0.31%\n",
      "[bin 15 ]\t0.8220\t0.8218\t-0.02%\n",
      "[bin 16 ]\t0.7980\t0.7971\t-0.11%\n",
      "[bin 17 ]\t1.0000\t0.7151\t-28.49%\n",
      "[bin 18 ]\t0.7790\t0.7825\t0.45%\n",
      "[bin 19 ]\t0.7730\t0.7749\t0.25%\n",
      "[bin 20 ]\t0.8390\t0.8390\t0.00%\n",
      "[bin 21 ]\t0.8520\t0.8510\t-0.12%\n",
      "[bin 22 ]\t1.0000\t0.8192\t-18.08%\n",
      "[bin 23 ]\t0.8470\t0.8474\t0.05%\n",
      "[bin 24 ]\t0.8460\t0.8467\t0.09%\n",
      "[bin 25 ]\t0.8610\t0.8610\t-0.00%\n",
      "[bin 26 ]\t0.8520\t0.8522\t0.02%\n",
      "[bin 27 ]\t1.0000\t0.8145\t-18.55%\n",
      "[bin 28 ]\t0.8530\t0.8528\t-0.03%\n",
      "[bin 29 ]\t0.8300\t0.8311\t0.13%\n",
      "[bin 30 ]\t0.8510\t0.8564\t0.63%\n",
      "[bin 31 ]\t0.8860\t0.8883\t0.26%\n",
      "[bin 32 ]\t1.0000\t0.8324\t-16.76%\n",
      "[bin 33 ]\t0.8540\t0.8534\t-0.07%\n",
      "[bin 34 ]\t0.8500\t0.8501\t0.02%\n",
      "[bin 35 ]\t0.8680\t0.8677\t-0.03%\n",
      "[bin 36 ]\t0.8600\t0.8601\t0.01%\n",
      "[bin 37 ]\t1.0000\t0.8294\t-17.06%\n",
      "[bin 38 ]\t0.8880\t0.8898\t0.20%\n",
      "[bin 39 ]\t0.8410\t0.8442\t0.38%\n",
      "[bin 40 ]\t0.8350\t0.8398\t0.58%\n",
      "[bin 41 ]\t0.9170\t0.9165\t-0.05%\n",
      "[bin 42 ]\t1.0000\t0.8782\t-12.18%\n",
      "[bin 43 ]\t0.8630\t0.8481\t-1.73%\n",
      "[bin 44 ]\t0.8600\t0.8563\t-0.43%\n",
      "[bin 45 ]\t0.8730\t0.8628\t-1.17%\n",
      "[bin 46 ]\t0.8710\t0.8650\t-0.68%\n",
      "[bin 47 ]\t1.0000\t0.8379\t-16.21%\n",
      "[bin 48 ]\t0.9120\t0.9183\t0.70%\n",
      "[bin 49 ]\t0.8390\t0.8483\t1.11%\n",
      "[bin 50 ]\t0.8350\t0.8398\t0.58%\n",
      "[bin 51 ]\t0.9170\t0.9165\t-0.05%\n",
      "[bin 52 ]\t1.0000\t0.8782\t-12.18%\n",
      "[bin 53 ]\t0.8630\t0.8481\t-1.73%\n",
      "[bin 54 ]\t0.8600\t0.8563\t-0.43%\n",
      "[bin 55 ]\t0.8730\t0.8628\t-1.17%\n",
      "[bin 56 ]\t0.8710\t0.8650\t-0.68%\n",
      "[bin 57 ]\t1.0000\t0.8379\t-16.21%\n",
      "[bin 58 ]\t0.9120\t0.9183\t0.70%\n",
      "[bin 59 ]\t0.8390\t0.8483\t1.11%\n"
     ]
    }
   ],
   "source": [
    "for bin, (pt, eta) in enumerate(product(ptbin[:-1], etabin[:-1])):\n",
    "    eta, pt = eta+0.01, pt+0.01\n",
    "    thisbin = h_pog.FindBin(eta, pt)\n",
    "    eff_pog = h_pog.GetBinContent(thisbin)\n",
    "    eff_tnp = h_tnp.GetBinContent(thisbin)\n",
    "    print(f\"[bin {bin} ]\\t{eff_pog:.4f}\\t{eff_tnp:.4f}\\t{(eff_tnp-eff_pog)/eff_pog*100:.2f}%\")"
   ]
  },
  {
   "cell_type": "code",
   "execution_count": 12,
   "metadata": {},
   "outputs": [],
   "source": [
    "# projection\n",
    "h_projy_pog = h_pog.ProjectionY(f\"projy_pog\", 2, 2)\n",
    "h_projy_tnp = h_tnp.ProjectionY(f\"projy_tnp\", 2, 2)"
   ]
  },
  {
   "cell_type": "code",
   "execution_count": 13,
   "metadata": {},
   "outputs": [
    {
     "data": {
      "image/png": "[encoded data removed]",
      "text/plain": [
       "<IPython.core.display.Image object>"
      ]
     },
     "metadata": {},
     "output_type": "display_data"
    }
   ],
   "source": [
    "h_projy_pog.SetStats(0)\n",
    "h_projy_pog.GetYaxis().SetRangeUser(0., 1.)\n",
    "\n",
    "c = ROOT.TCanvas()\n",
    "h_projy_pog.Draw()\n",
    "h_projy_tnp.Draw(\"same\")\n",
    "c.Draw()"
   ]
  },
  {
   "cell_type": "code",
   "execution_count": 14,
   "metadata": {},
   "outputs": [
    {
     "name": "stderr",
     "output_type": "stream",
     "text": [
      "Error in <TH1D::Add>: Attempt to add histograms with different number of bins : nbins h1 = 6 , nbins h2 =  5\n",
      "Error in <TH1D::Divide>: Cannot divide histograms with different number of bins\n"
     ]
    },
    {
     "data": {
      "image/png": "[encoded data removed]",
      "text/plain": [
       "<IPython.core.display.Image object>"
      ]
     },
     "metadata": {},
     "output_type": "display_data"
    }
   ],
   "source": [
    "# make ratio plots\n",
    "h_ratio = h_projy_tnp.Clone(\"ratio\")\n",
    "h_ratio.Add(h_projy_pog, -1)\n",
    "h_ratio.Divide(h_projy_pog)\n",
    "h_ratio.GetYaxis().SetRangeUser(-0.05, 0.05)\n",
    "\n",
    "c = ROOT.TCanvas()\n",
    "h_ratio.Draw()\n",
    "c.Draw()"
   ]
  },
  {
   "cell_type": "code",
   "execution_count": null,
   "metadata": {},
   "outputs": [],
   "source": []
  }
 ],
 "metadata": {
  "kernelspec": {
   "display_name": "hep",
   "language": "python",
   "name": "python3"
  },
  "language_info": {
   "codemirror_mode": {
    "name": "ipython",
    "version": 3
   },
   "file_extension": ".py",
   "mimetype": "text/x-python",
   "name": "python",
   "nbconvert_exporter": "python",
   "pygments_lexer": "ipython3",
   "version": "3.6.8"
  },
  "orig_nbformat": 4
 },
 "nbformat": 4,
 "nbformat_minor": 2
}
